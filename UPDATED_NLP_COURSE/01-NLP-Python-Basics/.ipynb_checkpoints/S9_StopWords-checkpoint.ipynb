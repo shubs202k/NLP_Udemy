{
 "cells": [
  {
   "cell_type": "code",
   "execution_count": 1,
   "metadata": {},
   "outputs": [],
   "source": [
    "import spacy\n",
    "nlp = spacy.load('en_core_web_sm')"
   ]
  },
  {
   "cell_type": "code",
   "execution_count": 2,
   "metadata": {},
   "outputs": [
    {
     "name": "stdout",
     "output_type": "stream",
     "text": [
      "{'not', 'therein', \"'ve\", 'front', 'latterly', 'would', 'if', 'besides', 'using', 'others', 'any', 'might', 'whence', 'between', 'at', 'how', 'whereas', 'been', 'that', 'more', 'therefore', 'could', 'full', 'which', 'just', 'almost', 'five', 'namely', 'as', 'show', 'make', 'are', 'some', 'down', 'part', 'fifty', 'anywhere', 'hers', 'again', 'below', 'on', 'should', 'her', 'beyond', 'but', 'own', 'meanwhile', 'keep', 'me', 'seem', 'back', \"'d\", 'into', 'whole', 'she', 'give', 'against', 'name', 'one', 'your', 'neither', 'enough', 'call', 'itself', \"n't\", 'though', 'thus', 'only', 'seems', 'yet', 'made', 'another', 'had', 'off', 'these', 'done', 'somewhere', 'his', 'it', 'ourselves', 'up', 'formerly', 'where', 'our', 'same', 'herein', 'seemed', 'towards', 'you', 'mine', 'through', 'amount', 'than', 'move', 'by', 'see', 'each', 'hereupon', 'above', 'quite', 'either', 'there', 'nowhere', 'often', 'in', 'who', 'however', 'after', 'put', 'toward', 'became', 'per', 'least', 'he', 'too', 'cannot', 'serious', 'upon', 'whom', 'yours', 'twenty', 'himself', 'i', 'of', 'am', 'yourself', 'so', 'out', 'until', \"'ll\", 'everyone', 'always', 'third', 'together', \"'m\", 'has', 'whoever', 'afterwards', 'alone', 'now', 'throughout', 'because', 'bottom', 'elsewhere', 'latter', 'also', 'beside', 'eight', 'else', 'ever', 'no', 'within', 'rather', 'behind', 'whose', 'hundred', 'whether', 'nor', 'or', 'the', 'them', 'be', 'whereafter', 'us', 'here', 'nevertheless', 'before', 'becoming', 'forty', 'six', 'something', 'thence', 'have', 're', 'please', 'my', 'their', 'themselves', 'empty', 'over', 'everywhere', 'along', 'becomes', 'from', 'every', 'first', 'perhaps', 'whereupon', 'mostly', 'ten', 'and', 'hereby', 'hence', 'twelve', 'even', 'seeming', 'noone', 'is', 'around', 'less', 'nine', 'top', 'beforehand', 'well', 'used', 'whereby', 'those', 'when', 'among', 'except', 'someone', 'an', 'sometimes', 'why', 'moreover', 'nobody', 'under', 'may', 'already', 'several', 'thereupon', 'sometime', 'become', 'none', 'somehow', 'do', 'we', 'herself', 'anything', 'former', 'thereby', 'with', 'side', 'anyone', 'many', 'four', 'to', 'hereafter', 'via', 'ca', 'its', 'were', 'myself', 'him', 'much', 'regarding', 'wherever', 'thru', 'doing', 'three', 'will', 'nothing', 'across', 'most', 'yourselves', 'very', 'unless', 'everything', 'anyway', 'further', 'all', 'about', 'still', \"'re\", 'due', 'sixty', 'can', 'did', 'anyhow', 'few', 'once', 'since', 'such', 'what', 'thereafter', 'take', 'whatever', 'two', 'whither', 'eleven', 'must', 'without', 'ours', \"'s\", 'indeed', 'this', 'onto', 'other', 'get', 'whenever', 'a', 'although', 'then', 'both', 'during', 'was', 'amongst', 'being', 'otherwise', 'fifteen', 'go', 'really', 'does', 'say', 'next', 'for', 'various', 'last', 'wherein', 'never', 'they', 'while'}\n"
     ]
    }
   ],
   "source": [
    "# Print the set of spaCy's default stop words (remember that sets are unordered):\n",
    "print(nlp.Defaults.stop_words)"
   ]
  },
  {
   "cell_type": "code",
   "execution_count": 3,
   "metadata": {},
   "outputs": [
    {
     "data": {
      "text/plain": [
       "312"
      ]
     },
     "execution_count": 3,
     "metadata": {},
     "output_type": "execute_result"
    }
   ],
   "source": [
    "len(nlp.Defaults.stop_words)"
   ]
  },
  {
   "cell_type": "markdown",
   "metadata": {},
   "source": [
    "## Check if a word is a Stop Word or not"
   ]
  },
  {
   "cell_type": "code",
   "execution_count": 4,
   "metadata": {},
   "outputs": [
    {
     "data": {
      "text/plain": [
       "True"
      ]
     },
     "execution_count": 4,
     "metadata": {},
     "output_type": "execute_result"
    }
   ],
   "source": [
    "nlp.vocab['after'].is_stop"
   ]
  },
  {
   "cell_type": "code",
   "execution_count": 5,
   "metadata": {},
   "outputs": [
    {
     "data": {
      "text/plain": [
       "False"
      ]
     },
     "execution_count": 5,
     "metadata": {},
     "output_type": "execute_result"
    }
   ],
   "source": [
    "nlp.vocab['cake'].is_stop"
   ]
  },
  {
   "cell_type": "code",
   "execution_count": 6,
   "metadata": {},
   "outputs": [
    {
     "data": {
      "text/plain": [
       "True"
      ]
     },
     "execution_count": 6,
     "metadata": {},
     "output_type": "execute_result"
    }
   ],
   "source": [
    "nlp.vocab['is'].is_stop"
   ]
  },
  {
   "cell_type": "markdown",
   "metadata": {},
   "source": [
    "## To add a Stop Word to the Default Set"
   ]
  },
  {
   "cell_type": "code",
   "execution_count": 7,
   "metadata": {},
   "outputs": [],
   "source": [
    "# Add the word to the set of stop words. Use lowercase!\n",
    "nlp.Defaults.stop_words.add('btw')"
   ]
  },
  {
   "cell_type": "code",
   "execution_count": 8,
   "metadata": {},
   "outputs": [],
   "source": [
    "nlp.vocab['btw'].is_stop = True"
   ]
  },
  {
   "cell_type": "code",
   "execution_count": 9,
   "metadata": {},
   "outputs": [
    {
     "data": {
      "text/plain": [
       "313"
      ]
     },
     "execution_count": 9,
     "metadata": {},
     "output_type": "execute_result"
    }
   ],
   "source": [
    "len(nlp.Defaults.stop_words) # Length increased by 1"
   ]
  },
  {
   "cell_type": "code",
   "execution_count": 10,
   "metadata": {},
   "outputs": [
    {
     "data": {
      "text/plain": [
       "True"
      ]
     },
     "execution_count": 10,
     "metadata": {},
     "output_type": "execute_result"
    }
   ],
   "source": [
    "nlp.vocab['btw'].is_stop"
   ]
  },
  {
   "cell_type": "markdown",
   "metadata": {},
   "source": [
    "## To remove a stop word"
   ]
  },
  {
   "cell_type": "code",
   "execution_count": 11,
   "metadata": {},
   "outputs": [],
   "source": [
    "# Remove the word from the set of stop words\n",
    "nlp.Defaults.stop_words.remove('beyond')"
   ]
  },
  {
   "cell_type": "code",
   "execution_count": 12,
   "metadata": {},
   "outputs": [],
   "source": [
    "# Remove the stop_word tag from the lexeme\n",
    "nlp.vocab['beyond'].is_stop = False"
   ]
  },
  {
   "cell_type": "code",
   "execution_count": 13,
   "metadata": {},
   "outputs": [
    {
     "data": {
      "text/plain": [
       "312"
      ]
     },
     "execution_count": 13,
     "metadata": {},
     "output_type": "execute_result"
    }
   ],
   "source": [
    "len(nlp.Defaults.stop_words)"
   ]
  },
  {
   "cell_type": "code",
   "execution_count": null,
   "metadata": {},
   "outputs": [],
   "source": []
  }
 ],
 "metadata": {
  "kernelspec": {
   "display_name": "Python 3",
   "language": "python",
   "name": "python3"
  },
  "language_info": {
   "codemirror_mode": {
    "name": "ipython",
    "version": 3
   },
   "file_extension": ".py",
   "mimetype": "text/x-python",
   "name": "python",
   "nbconvert_exporter": "python",
   "pygments_lexer": "ipython3",
   "version": "3.7.1rc2"
  }
 },
 "nbformat": 4,
 "nbformat_minor": 2
}
